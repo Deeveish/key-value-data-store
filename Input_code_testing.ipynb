{
 "cells": [
  {
   "cell_type": "code",
   "execution_count": 1,
   "metadata": {},
   "outputs": [],
   "source": [
    "import backendcode as b\n",
    "import threading"
   ]
  },
  {
   "cell_type": "code",
   "execution_count": 4,
   "metadata": {},
   "outputs": [],
   "source": [
    "def CRD():\n",
    "    try:\n",
    "        details=[\"Name\", \"Age\" ,\"Languages known\",\"Preferred Role\" , \"Years Of Experience\"]\n",
    "        print(\" To Create Event Enter : 1 \\n To Read Event Enter : 2 \\n To Delete Event enter :3\")\n",
    "        n=int(input()) \n",
    "        if(n==1):\n",
    "            content={}\n",
    "            filename=input(\"Enter File name\")\n",
    "            if len(filename)<=32:\n",
    "                content={i:input(\"enter {}\".format(i)) for i in details}\n",
    "            else:\n",
    "                print(\"Error : Filename Length should be within 32 Characters\")\n",
    "                return\n",
    "            print(\"Enter Time of Expiry for the file (in seconds)\")\n",
    "            timeofexpiry=int(input())\n",
    "            b.create(filename,content,timeofexpiry)\n",
    "        if(n==2):\n",
    "            filename=input(\"Enter File Name\")\n",
    "            b.read(filename)\n",
    "        if(n==3):\n",
    "            filename=input(\"Enetr File name\")\n",
    "            b.delete(filename)\n",
    "    except Exception as e:\n",
    "        print(e)\n",
    "    \n",
    "    \n",
    "    "
   ]
  },
  {
   "cell_type": "code",
   "execution_count": 3,
   "metadata": {},
   "outputs": [
    {
     "name": "stdout",
     "output_type": "stream",
     "text": [
      " To Create Event Enter : 1 \n",
      " To Read Event Enter : 2 \n",
      " To Delete Event enter :3\n",
      "1\n",
      "Enter File nameDev\n",
      "enter NameDeeveish\n",
      "enter Age21\n",
      "enter Languages knownC,C++,Python,Ms-Sql\n",
      "enter Preferred RoleSoftware Developer\n",
      "enter Years Of Experience0\n",
      "Enter Time of Expiry for the file (in seconds)\n",
      "55\n",
      " To Create Event Enter : 1 \n",
      " To Read Event Enter : 2 \n",
      " To Delete Event enter :3\n",
      "2\n",
      "Enter File NameDev\n",
      "Dev:{\"Name\": \"Deeveish\", \"Age\": \"21\", \"Languages known\": \"C,C++,Python,Ms-Sql\", \"Preferred Role\": \"Software Developer\", \"Years Of Experience\": \"0\"}\n"
     ]
    }
   ],
   "source": [
    "#getting input with threads\n",
    "try:   \n",
    "    t1 = threading.Thread(target=CRD(), args=(5,))\n",
    "    t2=threading.Thread(target=CRD(), args=(5,))\n",
    "    t1.start()\n",
    "    t2.start()\n",
    "\n",
    "\n",
    "    t1.join()\n",
    "    t2.join()\n",
    "except Exception as e:\n",
    "    print(e)\n",
    "\n",
    "#creating and reading File\n",
    "\n"
   ]
  },
  {
   "cell_type": "code",
   "execution_count": 6,
   "metadata": {},
   "outputs": [
    {
     "name": "stdout",
     "output_type": "stream",
     "text": [
      " To Create Event Enter : 1 \n",
      " To Read Event Enter : 2 \n",
      " To Delete Event enter :3\n",
      "2\n",
      "Enter File NameDev\n",
      "File was expired\n"
     ]
    }
   ],
   "source": [
    "CRD() #After the given time file expired"
   ]
  },
  {
   "cell_type": "code",
   "execution_count": 7,
   "metadata": {},
   "outputs": [
    {
     "name": "stdout",
     "output_type": "stream",
     "text": [
      " To Create Event Enter : 1 \n",
      " To Read Event Enter : 2 \n",
      " To Delete Event enter :3\n",
      "1\n",
      "Enter File nameBenny\n",
      "enter NameBenny Joel\n",
      "enter Age25\n",
      "enter Languages knownPython,PowerBI,Tableau\n",
      "enter Preferred RoleAnalyst\n",
      "enter Years Of Experience4\n",
      "Enter Time of Expiry for the file (in seconds)\n",
      "30\n"
     ]
    }
   ],
   "source": [
    "CRD()"
   ]
  },
  {
   "cell_type": "code",
   "execution_count": 8,
   "metadata": {},
   "outputs": [
    {
     "name": "stdout",
     "output_type": "stream",
     "text": [
      " To Create Event Enter : 1 \n",
      " To Read Event Enter : 2 \n",
      " To Delete Event enter :3\n",
      "3\n",
      "Enetr File nameBenny\n",
      "File  sucessfully deleted\n"
     ]
    }
   ],
   "source": [
    "CRD() #Deleting FIle"
   ]
  },
  {
   "cell_type": "code",
   "execution_count": 6,
   "metadata": {},
   "outputs": [
    {
     "name": "stdout",
     "output_type": "stream",
     "text": [
      " To Create Event Enter : 1 \n",
      " To Read Event Enter : 2 \n",
      " To Delete Event enter :3\n",
      "1\n",
      "Enter File namedevaaasapalssaweepssjagtgdnasayekamaaaspaoshoyasiasd\n",
      "Error : Filename Length should be within 32 Characters\n"
     ]
    }
   ],
   "source": [
    "CRD() #returns error when filename contains more than 32 characters"
   ]
  },
  {
   "cell_type": "code",
   "execution_count": null,
   "metadata": {},
   "outputs": [],
   "source": []
  }
 ],
 "metadata": {
  "kernelspec": {
   "display_name": "Python 3",
   "language": "python",
   "name": "python3"
  },
  "language_info": {
   "codemirror_mode": {
    "name": "ipython",
    "version": 3
   },
   "file_extension": ".py",
   "mimetype": "text/x-python",
   "name": "python",
   "nbconvert_exporter": "python",
   "pygments_lexer": "ipython3",
   "version": "3.7.1"
  }
 },
 "nbformat": 4,
 "nbformat_minor": 2
}
